{
 "cells": [
  {
   "cell_type": "markdown",
   "id": "69306d81",
   "metadata": {},
   "source": [
    "# GRIND ASSINMENT\n",
    "-Variables and Strings\n",
    "\n",
    "     -1.Simple Message:\n"
   ]
  },
  {
   "cell_type": "code",
   "execution_count": 12,
   "id": "2dc4036e",
   "metadata": {},
   "outputs": [
    {
     "name": "stdout",
     "output_type": "stream",
     "text": [
      "//my name is =  abdullahjalal \t\n",
      "//my roll no is = PIAIC157689\n"
     ]
    }
   ],
   "source": [
    "name = \"abdullahjalal\"\n",
    "Roll_no = \"PIAIC157689\"\n",
    "print(\"//my name is = \" , name,\"\\t\\n//my roll no is =\" , Roll_no)"
   ]
  },
  {
   "cell_type": "markdown",
   "id": "297678c5",
   "metadata": {},
   "source": [
    "# 2 \"Qoute\"\n",
    "-2.Find a quote from a famous person you admire. Print the quote and the name of its author. Your output should look something like the following, including the quotation marks:"
   ]
  },
  {
   "cell_type": "code",
   "execution_count": 16,
   "id": "5d4f56b4",
   "metadata": {},
   "outputs": [
    {
     "name": "stdout",
     "output_type": "stream",
     "text": [
      "laddan jaffery once said :\" Mai Nahi bataonga \" \n"
     ]
    }
   ],
   "source": [
    "print(\"\"\"laddan jaffery once said :\" Mai Nahi bataonga \" \"\"\")"
   ]
  },
  {
   "cell_type": "markdown",
   "id": "393a506a",
   "metadata": {},
   "source": [
    "# Calculate Area of a Circle::\n",
    "-calculate the radius by formula:"
   ]
  },
  {
   "cell_type": "code",
   "execution_count": 1,
   "id": "cf2cc3f2",
   "metadata": {
    "scrolled": true
   },
   "outputs": [
    {
     "name": "stdout",
     "output_type": "stream",
     "text": [
      "Enter The Radius of the circle=0.5\n",
      "The Radius of The Circle  0.5 is= 0.7855\n"
     ]
    }
   ],
   "source": [
    "radius=float(input(\"Enter The Radius of the circle=\"))\n",
    "#formula to calculate area of circle is A = \\pi r^2\n",
    "print(\"The Radius of The Circle \",radius ,\"is=\", 3.142*radius*radius)\n"
   ]
  },
  {
   "cell_type": "code",
   "execution_count": 5,
   "id": "a39e3342",
   "metadata": {},
   "outputs": [
    {
     "name": "stdout",
     "output_type": "stream",
     "text": [
      "enter ur first number=56\n",
      "positive\n"
     ]
    }
   ],
   "source": [
    "num = int(input(\"enter ur first number=\"))\n",
    "if num == 0:\n",
    "    print(\"zero\")\n",
    "elif num > 0:\n",
    "        print(\"positive\")\n",
    "else:\n",
    "    num < 0\n",
    "    print(\"negative\")\n",
    "\n"
   ]
  },
  {
   "cell_type": "markdown",
   "id": "b72da72e",
   "metadata": {},
   "source": [
    "# Vowel Tester "
   ]
  },
  {
   "cell_type": "code",
   "execution_count": 3,
   "id": "84c901d0",
   "metadata": {},
   "outputs": [
    {
     "name": "stdout",
     "output_type": "stream",
     "text": [
      "Enter a character: a\n",
      "Letter a is Vowel\n"
     ]
    }
   ],
   "source": [
    "letter=str(input(\"Enter a character: \"))\n",
    "if letter== 'a' or letter=='e' or letter=='i' or letter=='o' or letter=='u' or letter== 'A' or letter=='E' or letter=='I' or letter=='O' or letter=='U' :\n",
    "    print(\"Letter\",letter,\"is Vowel\")\n",
    "else:\n",
    "    print(\"Letter\",letter,\"is not Vowel\")"
   ]
  },
  {
   "cell_type": "markdown",
   "id": "ad134cc9",
   "metadata": {},
   "source": [
    "# BMI CALCULATOR"
   ]
  },
  {
   "cell_type": "code",
   "execution_count": 5,
   "id": "e376f7be",
   "metadata": {},
   "outputs": [
    {
     "name": "stdout",
     "output_type": "stream",
     "text": [
      "Enter Height in Cm : 180\n",
      "Enter Weight in Kg  : 75\n",
      "Your BMI is  23.148148148148145\n"
     ]
    }
   ],
   "source": [
    "height=float(input(\"Enter Height in Cm : \"))\n",
    "weight=float(input(\"Enter Weight in Kg  : \"))\n",
    "BMI=weight/ (height/100)**2\n",
    "print(\"Your BMI is \",BMI)"
   ]
  },
  {
   "cell_type": "markdown",
   "id": "1147e796",
   "metadata": {},
   "source": [
    "# List::\n",
    "\n",
    "-Store the names of a few of your friends in a list called names"
   ]
  },
  {
   "cell_type": "code",
   "execution_count": 16,
   "id": "9a1839a2",
   "metadata": {},
   "outputs": [
    {
     "name": "stdout",
     "output_type": "stream",
     "text": [
      "anees\n",
      "ahmed\n",
      "khan\n",
      "rameez\n"
     ]
    }
   ],
   "source": [
    "names = [\"anees\",\"ahmed\",\"khan\",\"rameez\"]\n",
    "print(names[0])\n",
    "print(names[1])\n",
    "print(names[2]) \n",
    "print(names[3])"
   ]
  },
  {
   "cell_type": "code",
   "execution_count": 21,
   "id": "d6cf7e4b",
   "metadata": {},
   "outputs": [
    {
     "name": "stdout",
     "output_type": "stream",
     "text": [
      "anees hello world\n",
      "ahmed hello world\n",
      "khan hello world\n",
      "rameez hello world\n"
     ]
    }
   ],
   "source": [
    "a = \"hello world\"\n",
    "names = [\"anees\",\"ahmed\",\"khan\",\"rameez\"]\n",
    "print(names[0], a)\n",
    "print(names[1] , a)\n",
    "print(names[2] ,a )\n",
    "print(names[3] , a)"
   ]
  },
  {
   "cell_type": "markdown",
   "id": "9b7a7d90",
   "metadata": {},
   "source": [
    "# 10.Make a python program that conatains your nine favourite dishes in a list called foods \n"
   ]
  },
  {
   "cell_type": "code",
   "execution_count": 31,
   "id": "13125023",
   "metadata": {},
   "outputs": [
    {
     "name": "stdout",
     "output_type": "stream",
     "text": [
      "The first three items in the list are: ['biryani', 'qourma', 'karhai']\n",
      "Three items from the middle of the list are: ['broast', 'steak', 'fries']\n",
      "The last three items in the list are: ['pulao', 'zinger', 'pasta']\n"
     ]
    }
   ],
   "source": [
    "food = [\"biryani\" , \"qourma\" , \"karhai\" , \"broast\" , \"steak\" , \"fries\" , \"pulao\" , \"zinger\" , \"pasta\"]\n",
    "print( \"The first three items in the list are:\",food[0:3])\n",
    "print( \"Three items from the middle of the list are:\",food[3:6])\n",
    "print(\"The last three items in the list are:\",food[6:9])"
   ]
  },
  {
   "cell_type": "markdown",
   "id": "2a30262c",
   "metadata": {},
   "source": [
    "# Start with your program from your last Question\n"
   ]
  },
  {
   "cell_type": "code",
   "execution_count": 40,
   "id": "9009e7df",
   "metadata": {},
   "outputs": [
    {
     "name": "stdout",
     "output_type": "stream",
     "text": [
      "['biryani', 'qourma', 'karhai', 'broast', 'steak', 'fries', 'pulao', 'zinger', 'pasta', 'qeema']\n",
      "['biryani', 'qourma', 'karhai', 'broast', 'steak', 'fries', 'pulao', 'zinger', 'pasta']\n",
      "My favourite food are: biryani\n",
      "My favourite food are: qourma\n",
      "My favourite food are: karhai\n",
      "My favourite food are: broast\n",
      "My favourite food are: steak\n",
      "My favourite food are: fries\n",
      "My favourite food are: pulao\n",
      "My favourite food are: zinger\n",
      "My favourite food are: pasta\n",
      "My favourite food are: qeema\n"
     ]
    }
   ],
   "source": [
    "food = [\"biryani\" , \"qourma\" , \"karhai\" , \"broast\" , \"steak\" , \"fries\" , \"pulao\" , \"zinger\" , \"pasta\"]\n",
    "friend_foods = [\"biryani\" , \"qourma\" , \"karhai\" , \"broast\" , \"steak\" , \"fries\" , \"pulao\" , \"zinger\" , \"pasta\"]\n",
    "food.append(\"qeema\")\n",
    "print(food)\n",
    "print(friend_foods)\n",
    "for items in food:\n",
    "    print(\"My favourite food are:\" , items )"
   ]
  },
  {
   "cell_type": "code",
   "execution_count": 43,
   "id": "ef8491ce",
   "metadata": {},
   "outputs": [
    {
     "name": "stdout",
     "output_type": "stream",
     "text": [
      "My friend’s favorite foods are: biryani\n",
      "My friend’s favorite foods are: qourma\n",
      "My friend’s favorite foods are: karhai\n",
      "My friend’s favorite foods are: broast\n",
      "My friend’s favorite foods are: steak\n",
      "My friend’s favorite foods are: fries\n",
      "My friend’s favorite foods are: pulao\n",
      "My friend’s favorite foods are: zinger\n",
      "My friend’s favorite foods are: pasta\n"
     ]
    }
   ],
   "source": [
    "food = [\"biryani\" , \"qourma\" , \"karhai\" , \"broast\" , \"steak\" , \"fries\" , \"pulao\" , \"zinger\" , \"pasta\"]\n",
    "friend_foods = [\"biryani\" , \"qourma\" , \"karhai\" , \"broast\" , \"steak\" , \"fries\" , \"pulao\" , \"zinger\" , \"pasta\"]\n",
    "for items in friend_foods:\n",
    "    print( \"My friend’s favorite foods are:\" , items )"
   ]
  },
  {
   "cell_type": "code",
   "execution_count": null,
   "id": "b0ac450d",
   "metadata": {},
   "outputs": [],
   "source": []
  }
 ],
 "metadata": {
  "kernelspec": {
   "display_name": "Python 3 (ipykernel)",
   "language": "python",
   "name": "python3"
  },
  "language_info": {
   "codemirror_mode": {
    "name": "ipython",
    "version": 3
   },
   "file_extension": ".py",
   "mimetype": "text/x-python",
   "name": "python",
   "nbconvert_exporter": "python",
   "pygments_lexer": "ipython3",
   "version": "3.9.12"
  }
 },
 "nbformat": 4,
 "nbformat_minor": 5
}
